{
 "cells": [
  {
   "cell_type": "code",
   "execution_count": 2,
   "metadata": {},
   "outputs": [
    {
     "ename": "SyntaxError",
     "evalue": "invalid token (<ipython-input-2-461f37981910>, line 2)",
     "output_type": "error",
     "traceback": [
      "\u001b[1;36m  File \u001b[1;32m\"<ipython-input-2-461f37981910>\"\u001b[1;36m, line \u001b[1;32m2\u001b[0m\n\u001b[1;33m    import 2048_constants as c\u001b[0m\n\u001b[1;37m               ^\u001b[0m\n\u001b[1;31mSyntaxError\u001b[0m\u001b[1;31m:\u001b[0m invalid token\n"
     ]
    }
   ],
   "source": [
    "from Tkinter import Frame, Label, CENTER\n",
    "import 2048_constants as c\n",
    "import 2048_logic as l\n",
    "\n",
    "class Game2048(Frame):\n",
    "    def __init__(self):\n",
    "        Frame.__init__(self)\n",
    "        \n",
    "        self.grid()\n",
    "        self.master.title(\"2048\")\n",
    "        self.master.bind(\"<Key>\", self.key_pressed)  #function that gets called when any key is pressed\n",
    "        self.commands={c.KEY_UP:l.move_up, c.KEY_DOWN:l.move_down, c.KEY_LEFT:l.move_left, c.KEY_RIGHT:l.move_right}\n",
    "        \n",
    "        self.grid_cells=[]\n",
    "        self.init_grid()    #initialize cells in grid\n",
    "        self.init_matrix()  #initialize numbers in cells\n",
    "        self.update_grid_cells()  #change colours in cells according to numbers\n",
    "        \n",
    "        self.mainloop()  #called when application is ready to run\n",
    "        \n",
    "    def init_grid(self):\n",
    "        background = Frame(self, bg=c.BACKGROUND_COLOR_GAME, width=c.SIZE, height=c.SIZE)\n",
    "        background.grid()   #grid function organises widgets in a table like structure in the parent widget\n",
    "        \n",
    "        for i in range(c.GRID_LEN):\n",
    "            grid_row=[]\n",
    "            for j in range(c.GRID_LEN):\n",
    "                cell = Frame(background, bg=c.BACKGROUND_COLOR_CELL_EMPTY, width=c.SIZE/c.GRID_LEN, height=c.SIZE/c.GRID_LEN)\n",
    "                cell.grid(row=i, column=j, padx=c.GRID_PADDING, pady=c.GRID_PADDING)\n",
    "                t = Label(master=cell, text=\"\", bg=c.BACKGROUND_COLOR_CELL_EMPTY, justify=CENTER, font=c.FONT, width=5, height=2)\n",
    "                t.grid()\n",
    "                grid_row.append(t)\n",
    "            self.grid_cells.append(grid_row)\n",
    "    \n",
    "    def init_matrix(self):\n",
    "        self.matrix = l.start_game()\n",
    "        l.add_new_2(self.matrix)\n",
    "        l.add_new_2(self.matrix)\n",
    "        \n",
    "    def upgrade_grid_cells(self):\n",
    "        for i in range(c.GRID_LEN):\n",
    "            for j in range(c.GRID_LEN):\n",
    "                new_number=self.matrix[i][j]\n",
    "                if new_number==0:\n",
    "                    self.grid_cells[i][j].configure(text=\"\", bg=c.BACKGROUND_COLOR_CELL_EMPTY)\n",
    "                else:\n",
    "                    self.grid_cells[i][j].configure(text=str(new_number), bg=c.BACKGROUND_COLOR_DICT[new_number],\n",
    "                                                   fg=c.CELL_COLOR_DICT[new_number])\n",
    "        self.update_idletasks() #updates when all events are processed\n",
    "        \n",
    "    def key_pressed(self, event):\n",
    "        key = repr(event.char) #repr computes string representation of an object i.e. for w it will give 'w'\n",
    "        if key in self.commands:\n",
    "            self.matrix, changed= self.commands[key](self.matrix)\n",
    "            if changed:\n",
    "                l.add_new_2(self.matrix)\n",
    "                self.update_grid_cells()\n",
    "                changed=False\n",
    "                \n",
    "                if l.get_current_state(self.matrix)=='WON':\n",
    "                    self.grid_cells[1][1].configure(text=\"You\", bg=c.BACKGROUND_COLOR_CELL_EMPTY)\n",
    "                    self.grid_cells[1][2].configure(text=\"Win\", bg=c.BACKGROUND_COLOR_CELL_EMPTY)\n",
    "                if l.get_current_state(self.matrix)=='LOST':\n",
    "                    self.grid_cells[1][1].configure(text=\"You\", bg=c.BACKGROUND_COLOR_CELL_EMPTY)\n",
    "                    self.grid_cells[1][2].configure(text=\"Lose\", bg=c.BACKGROUND_COLOR_CELL_EMPTY)\n",
    "\n",
    "game=Game2048()\n",
    "                    \n",
    "            \n",
    "    "
   ]
  }
 ],
 "metadata": {
  "kernelspec": {
   "display_name": "Python 3",
   "language": "python",
   "name": "python3"
  },
  "language_info": {
   "codemirror_mode": {
    "name": "ipython",
    "version": 3
   },
   "file_extension": ".py",
   "mimetype": "text/x-python",
   "name": "python",
   "nbconvert_exporter": "python",
   "pygments_lexer": "ipython3",
   "version": "3.7.4"
  }
 },
 "nbformat": 4,
 "nbformat_minor": 2
}
