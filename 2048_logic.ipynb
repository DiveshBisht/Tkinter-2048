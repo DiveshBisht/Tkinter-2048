{
 "cells": [
  {
   "cell_type": "code",
   "execution_count": 16,
   "metadata": {},
   "outputs": [],
   "source": [
    "import random\n",
    "\n",
    "def start_game():\n",
    "    mat=[[0 for i in range(4)] for j in range(4)]\n",
    "    return mat\n",
    "\n",
    "def add_new_2(mat):\n",
    "    r = random.randint(0,3)\n",
    "    c = random.randint(0,3)\n",
    "    while mat[r][c]!=0:\n",
    "        r = random.randint(0,3)\n",
    "        c = random.randint(0,3)\n",
    "    mat[r][c]=2\n",
    "    \n",
    "def get_current_state(mat):\n",
    "    #2048 is present anywhere\n",
    "    for i in range(4):\n",
    "        for j in range(4):\n",
    "            if mat[i][j]==2048:\n",
    "                return 'WON'\n",
    "    \n",
    "    #0 is present anywhere\n",
    "    for i in range(4):\n",
    "        for j in range(4):\n",
    "            if mat[i][j]==0:\n",
    "                return 'GAME NOT OVER'\n",
    "            \n",
    "    #consecutive similar numbers in every row and column except last\n",
    "    for i in range(3):\n",
    "        for j in range(3):\n",
    "            if mat[i][j]==mat[i+1][j] or mat[i][j]==mat[i][j+1]:\n",
    "                return 'GAME NOT OVER'\n",
    "    \n",
    "    #consecutive similar numbers in last row and column\n",
    "    for k in range(3):\n",
    "        if mat[3][k]==mat[3][k+1] or mat[k][3]==mat[k+1][3]:\n",
    "            return 'GAME NOT OVER'\n",
    "        \n",
    "    return 'LOST'\n",
    "    \n",
    "def compress(mat):\n",
    "    new_mat=[[0 for i in range(4)] for j in range(4)]\n",
    "    changed=False\n",
    "    for i in range(4):\n",
    "        pos=0\n",
    "        for j in range(4):\n",
    "            if mat[i][j]!=0:\n",
    "                new_mat[i][pos]=mat[i][j]\n",
    "                if j!=pos:\n",
    "                    changed=True\n",
    "                pos+=1\n",
    "    return new_mat, changed\n",
    "\n",
    "def merge(mat):\n",
    "    changed=False\n",
    "    for i in range(4):\n",
    "        for j in range(3):\n",
    "            if mat[i][j]==mat[i][j+1] and mat[i][j]!=0:\n",
    "                mat[i][j]=mat[i][j]*2\n",
    "                mat[i][j+1]=0\n",
    "                changed =True\n",
    "    return mat, changed\n",
    "                \n",
    "def reverse(mat):\n",
    "    new_mat=[]\n",
    "    for lst in mat:\n",
    "        new_mat.append(lst[::-1])\n",
    "    return new_mat\n",
    "\n",
    "def transpose(mat):\n",
    "    new_mat=[]\n",
    "    for i in range(4):\n",
    "        lst=[]\n",
    "        for j in range(4):\n",
    "            lst.append(mat[j][i])\n",
    "        new_mat.append(lst)\n",
    "    return new_mat\n",
    "\n",
    "def move_left(grid):\n",
    "    compress_grid, changed1 = compress(grid)\n",
    "    merge_grid, changed2 = merge(compress_grid)\n",
    "    changed = changed1 or changed2\n",
    "    final_grid = compress(merge_grid)\n",
    "    return final_grid, changed\n",
    "    \n",
    "def move_right(grid):\n",
    "    reverse_grid = reverse(grid)\n",
    "    new_grid, changed = move_left(reverse_grid)\n",
    "    final_grid = reverse(new_grid)\n",
    "    return final_grid, changed\n",
    "    \n",
    "def move_up(grid):\n",
    "    print(grid)\n",
    "    transpose_grid = transpose(grid)\n",
    "    new_grid, changed = move_left(transpose_grid)\n",
    "    final_grid = transpose(new_grid)\n",
    "    return final_grid, changed\n",
    "    \n",
    "def move_down(grid):\n",
    "    transpose_grid = transpose(grid)\n",
    "    reverse_grid = reverse(transpose_grid)\n",
    "    new_grid, changed = move_left(reverse_grid)\n",
    "    semifinal_grid = reverse(new_grid)\n",
    "    final_grid = transpose(semifinal_grid)\n",
    "    return final_grid, changed\n"
   ]
  },
  {
   "cell_type": "code",
   "execution_count": 18,
   "metadata": {
    "scrolled": true
   },
   "outputs": [
    {
     "name": "stdout",
     "output_type": "stream",
     "text": [
      "[[0, 0, 0, 0], [0, 0, 0, 0], [0, 0, 0, 0], [0, 0, 0, 0]]\n"
     ]
    }
   ],
   "source": [
    "mat=start_game()\n",
    "print(mat)"
   ]
  },
  {
   "cell_type": "code",
   "execution_count": 20,
   "metadata": {},
   "outputs": [
    {
     "name": "stdout",
     "output_type": "stream",
     "text": [
      "[[0, 0, 0, 0], [0, 0, 0, 0], [2, 2, 0, 0], [0, 0, 0, 0]]\n"
     ]
    }
   ],
   "source": [
    "add_new_2(mat)\n",
    "print(mat)"
   ]
  },
  {
   "cell_type": "code",
   "execution_count": 21,
   "metadata": {},
   "outputs": [
    {
     "name": "stdout",
     "output_type": "stream",
     "text": [
      "[[0, 0, 0, 0], [0, 0, 0, 0], [2, 2, 0, 0], [0, 0, 0, 0]]\n"
     ]
    },
    {
     "ename": "TypeError",
     "evalue": "'bool' object is not subscriptable",
     "output_type": "error",
     "traceback": [
      "\u001b[1;31m---------------------------------------------------------------------------\u001b[0m",
      "\u001b[1;31mTypeError\u001b[0m                                 Traceback (most recent call last)",
      "\u001b[1;32m<ipython-input-21-cd4d52ceecca>\u001b[0m in \u001b[0;36m<module>\u001b[1;34m\u001b[0m\n\u001b[1;32m----> 1\u001b[1;33m \u001b[0mmat\u001b[0m\u001b[1;33m,\u001b[0m \u001b[0mchanged\u001b[0m\u001b[1;33m=\u001b[0m\u001b[0mmove_up\u001b[0m\u001b[1;33m(\u001b[0m\u001b[0mmat\u001b[0m\u001b[1;33m)\u001b[0m\u001b[1;33m\u001b[0m\u001b[1;33m\u001b[0m\u001b[0m\n\u001b[0m\u001b[0;32m      2\u001b[0m \u001b[0mprint\u001b[0m\u001b[1;33m(\u001b[0m\u001b[0mmat\u001b[0m\u001b[1;33m,\u001b[0m \u001b[0mchanged\u001b[0m\u001b[1;33m)\u001b[0m\u001b[1;33m\u001b[0m\u001b[1;33m\u001b[0m\u001b[0m\n",
      "\u001b[1;32m<ipython-input-16-8aa63a596717>\u001b[0m in \u001b[0;36mmove_up\u001b[1;34m(grid)\u001b[0m\n\u001b[0;32m     94\u001b[0m     \u001b[0mtranspose_grid\u001b[0m \u001b[1;33m=\u001b[0m \u001b[0mtranspose\u001b[0m\u001b[1;33m(\u001b[0m\u001b[0mgrid\u001b[0m\u001b[1;33m)\u001b[0m\u001b[1;33m\u001b[0m\u001b[1;33m\u001b[0m\u001b[0m\n\u001b[0;32m     95\u001b[0m     \u001b[0mnew_grid\u001b[0m\u001b[1;33m,\u001b[0m \u001b[0mchanged\u001b[0m \u001b[1;33m=\u001b[0m \u001b[0mmove_left\u001b[0m\u001b[1;33m(\u001b[0m\u001b[0mtranspose_grid\u001b[0m\u001b[1;33m)\u001b[0m\u001b[1;33m\u001b[0m\u001b[1;33m\u001b[0m\u001b[0m\n\u001b[1;32m---> 96\u001b[1;33m     \u001b[0mfinal_grid\u001b[0m \u001b[1;33m=\u001b[0m \u001b[0mtranspose\u001b[0m\u001b[1;33m(\u001b[0m\u001b[0mnew_grid\u001b[0m\u001b[1;33m)\u001b[0m\u001b[1;33m\u001b[0m\u001b[1;33m\u001b[0m\u001b[0m\n\u001b[0m\u001b[0;32m     97\u001b[0m     \u001b[1;32mreturn\u001b[0m \u001b[0mfinal_grid\u001b[0m\u001b[1;33m,\u001b[0m \u001b[0mchanged\u001b[0m\u001b[1;33m\u001b[0m\u001b[1;33m\u001b[0m\u001b[0m\n\u001b[0;32m     98\u001b[0m \u001b[1;33m\u001b[0m\u001b[0m\n",
      "\u001b[1;32m<ipython-input-16-8aa63a596717>\u001b[0m in \u001b[0;36mtranspose\u001b[1;34m(mat)\u001b[0m\n\u001b[0;32m     73\u001b[0m         \u001b[0mlst\u001b[0m\u001b[1;33m=\u001b[0m\u001b[1;33m[\u001b[0m\u001b[1;33m]\u001b[0m\u001b[1;33m\u001b[0m\u001b[1;33m\u001b[0m\u001b[0m\n\u001b[0;32m     74\u001b[0m         \u001b[1;32mfor\u001b[0m \u001b[0mj\u001b[0m \u001b[1;32min\u001b[0m \u001b[0mrange\u001b[0m\u001b[1;33m(\u001b[0m\u001b[1;36m4\u001b[0m\u001b[1;33m)\u001b[0m\u001b[1;33m:\u001b[0m\u001b[1;33m\u001b[0m\u001b[1;33m\u001b[0m\u001b[0m\n\u001b[1;32m---> 75\u001b[1;33m             \u001b[0mlst\u001b[0m\u001b[1;33m.\u001b[0m\u001b[0mappend\u001b[0m\u001b[1;33m(\u001b[0m\u001b[0mmat\u001b[0m\u001b[1;33m[\u001b[0m\u001b[0mj\u001b[0m\u001b[1;33m]\u001b[0m\u001b[1;33m[\u001b[0m\u001b[0mi\u001b[0m\u001b[1;33m]\u001b[0m\u001b[1;33m)\u001b[0m\u001b[1;33m\u001b[0m\u001b[1;33m\u001b[0m\u001b[0m\n\u001b[0m\u001b[0;32m     76\u001b[0m         \u001b[0mnew_mat\u001b[0m\u001b[1;33m.\u001b[0m\u001b[0mappend\u001b[0m\u001b[1;33m(\u001b[0m\u001b[0mlst\u001b[0m\u001b[1;33m)\u001b[0m\u001b[1;33m\u001b[0m\u001b[1;33m\u001b[0m\u001b[0m\n\u001b[0;32m     77\u001b[0m     \u001b[1;32mreturn\u001b[0m \u001b[0mnew_mat\u001b[0m\u001b[1;33m\u001b[0m\u001b[1;33m\u001b[0m\u001b[0m\n",
      "\u001b[1;31mTypeError\u001b[0m: 'bool' object is not subscriptable"
     ]
    }
   ],
   "source": [
    "mat, changed=move_up(mat)\n",
    "print(mat, changed)"
   ]
  },
  {
   "cell_type": "code",
   "execution_count": 32,
   "metadata": {},
   "outputs": [
    {
     "name": "stdout",
     "output_type": "stream",
     "text": [
      "[[0, 0, 0, 4], [0, 0, 0, 0], [0, 0, 0, 0], [0, 0, 0, 0]]\n"
     ]
    }
   ],
   "source": [
    "mat=move_right(mat)\n",
    "print(mat)"
   ]
  },
  {
   "cell_type": "code",
   "execution_count": 33,
   "metadata": {},
   "outputs": [
    {
     "name": "stdout",
     "output_type": "stream",
     "text": [
      "[[0, 0, 0, 0], [0, 0, 0, 0], [0, 0, 0, 0], [0, 0, 0, 4]]\n"
     ]
    }
   ],
   "source": [
    "mat=move_down(mat)\n",
    "print(mat)"
   ]
  },
  {
   "cell_type": "code",
   "execution_count": 22,
   "metadata": {},
   "outputs": [
    {
     "name": "stdout",
     "output_type": "stream",
     "text": [
      "(([[0, 0, 0, 0], [0, 0, 0, 0], [4, 0, 0, 0], [0, 0, 0, 0]], False), True)\n"
     ]
    }
   ],
   "source": [
    "mat=move_left(mat)\n",
    "print(mat)"
   ]
  }
 ],
 "metadata": {
  "kernelspec": {
   "display_name": "Python 3",
   "language": "python",
   "name": "python3"
  },
  "language_info": {
   "codemirror_mode": {
    "name": "ipython",
    "version": 3
   },
   "file_extension": ".py",
   "mimetype": "text/x-python",
   "name": "python",
   "nbconvert_exporter": "python",
   "pygments_lexer": "ipython3",
   "version": "3.7.4"
  }
 },
 "nbformat": 4,
 "nbformat_minor": 2
}
